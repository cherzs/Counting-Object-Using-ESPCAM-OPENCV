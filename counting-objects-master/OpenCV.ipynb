{
 "cells": [
  {
   "cell_type": "code",
   "execution_count": 1,
   "metadata": {},
   "outputs": [],
   "source": [
    "import cv2\n",
    "import glob\n",
    "import numpy as np\n",
    "from skimage.feature import peak_local_max\n",
    "from skimage.morphology import watershed\n",
    "from scipy import ndimage\n",
    "import csv"
   ]
  },
  {
   "cell_type": "markdown",
   "metadata": {},
   "source": [
    "## Getting all the images"
   ]
  },
  {
   "cell_type": "code",
   "execution_count": 2,
   "metadata": {},
   "outputs": [],
   "source": [
    "images = glob.glob(\"./retail_images/*.*\")\n",
    "escape=False"
   ]
  },
  {
   "cell_type": "markdown",
   "metadata": {},
   "source": [
    "## Steps taken to get the correct contours \n",
    "\n",
    "1. Sort the contours in the descending order of areas\n",
    "2. Iterate through sorted contours and compare the area of a contour with previous contour\n",
    "3. If the contour area is greater than 80% of previous contours continue\n",
    "4. Else, stop the process.\n",
    "5. With the filtered contous create a convex hull and return it.\n",
    "\n",
    "\n",
    "This function also identifies if this image has to be processed through OpenCV or FasterRCNN\n",
    "If the area of a contour is greater than 50% of the whole image then pass a flag of large contour\n",
    "which indicate that this image has to be processed through FasterRCNN Algorithm\n"
   ]
  },
  {
   "cell_type": "code",
   "execution_count": 3,
   "metadata": {},
   "outputs": [],
   "source": [
    "\n",
    "def get_correct_contours(contours,area):\n",
    "    contour_area_list = []\n",
    "    large_contour = False\n",
    "    cnts = sorted(contours, key = cv2.contourArea, reverse = True)\n",
    "    for i in cnts:\n",
    "        if cv2.contourArea(i) < 0.5*area:\n",
    "            contour_area_list.append(cv2.contourArea(i))\n",
    "        else:\n",
    "            if large_contour==False:\n",
    "                large_contour = True\n",
    "    prev_area=1.0\n",
    "    for j,k in enumerate(contour_area_list):\n",
    "        if j !=0:\n",
    "            if prev_area != 0:\n",
    "                if (prev_area-k)/prev_area > 0.8:\n",
    "                    break\n",
    "        else:\n",
    "            prev_area = k\n",
    "    convex_hull = []\n",
    "    if prev_area != 1.0:\n",
    "        if j !=1:\n",
    "            length = j+1\n",
    "        else:\n",
    "            length = j\n",
    "        for element in cnts[0:length]:\n",
    "            convex_hull.append(cv2.convexHull(element)) \n",
    "    return(convex_hull,large_contour)"
   ]
  },
  {
   "cell_type": "code",
   "execution_count": null,
   "metadata": {},
   "outputs": [],
   "source": [
    "csvfile = open(\"OpenCV.csv\", 'w')\n",
    "writer = csv.writer(csvfile)\n",
    "for img in images:\n",
    "    kernel = np.ones((2,2),np.uint8)\n",
    "    if escape==True:\n",
    "        cv2.destroyAllWindows()\n",
    "        break\n",
    "    else:\n",
    "        #Read the Image in color format\n",
    "        color=cv2.imread(img,1)\n",
    "        #Covert the color image to gray scale\n",
    "        gray = cv2.cvtColor(color, cv2.COLOR_BGR2GRAY)\n",
    "        \n",
    "        #Threshold the image using Otsu\n",
    "        ret3,th3 = cv2.threshold(gray,0,255,cv2.THRESH_BINARY_INV+cv2.THRESH_OTSU)\n",
    "\n",
    "        # Create the minimum and maximum threshold values for Canny Edge detection\n",
    "        hist_eq =cv2.equalizeHist(gray)\n",
    "        min_thresh=0.66*np.median(hist_eq)\n",
    "        max_thresh=1.33*np.median(hist_eq)\n",
    "        \n",
    "\n",
    "        edge_1 = cv2.Canny(gray,min_thresh,max_thresh)\n",
    "        \n",
    "        # Dilate the edges to make it more visible\n",
    "        edge_2 = cv2.dilate(edge_1,None,iterations = 1)\n",
    "        \n",
    "        #Flood fill the image to identify the background and extract foreground\n",
    "        im_floodfill = edge_2.copy()\n",
    "        h, w = im_floodfill.shape[:2]\n",
    "        area = h*w\n",
    "        mask = np.zeros((h+2, w+2), np.uint8)\n",
    " \n",
    "        #Floodfill from point (0, 0)\n",
    "        cv2.floodFill(im_floodfill, mask, (0,0), 255)\n",
    "        im_floodfill_inv = cv2.bitwise_not(im_floodfill)\n",
    "        im_out = edge_2 | im_floodfill_inv\n",
    "        \n",
    "        \n",
    "        # Find all external contours\n",
    "        im2, contours, hierarchy = cv2.findContours(im_out,cv2.RETR_EXTERNAL,cv2.CHAIN_APPROX_SIMPLE)\n",
    "        \n",
    "        # Get the correct contours.       \n",
    "        cnts,large_contour = get_correct_contours(contours,area)\n",
    "        \n",
    "        \n",
    "        # If the contour is not large \n",
    "        if not large_contour and len(cnts) >2:\n",
    "                draw_contour_all = cv2.drawContours(color, cnts, -1, (0,255,0), 3)\n",
    "                outer = cv2.drawContours(color,cnts,-1,(0,255,0), 3)\n",
    "                writer.writerow([img.rsplit('/', 1)[1].split('.')[0],len(cnts)])\n",
    "                print(img.rsplit('/', 1)[1].split('.')[0],len(cnts))\n",
    "        else:\n",
    "            writer.writerow([img.rsplit('/', 1)[1].split('.')[0],'FasterRCNN'])\n",
    "csvfile.close()"
   ]
  }
 ],
 "metadata": {
  "kernelspec": {
   "display_name": "Python 3",
   "language": "python",
   "name": "python3"
  },
  "language_info": {
   "codemirror_mode": {
    "name": "ipython",
    "version": 3
   },
   "file_extension": ".py",
   "mimetype": "text/x-python",
   "name": "python",
   "nbconvert_exporter": "python",
   "pygments_lexer": "ipython3",
   "version": "3.10.8 (tags/v3.10.8:aaaf517, Oct 11 2022, 16:50:30) [MSC v.1933 64 bit (AMD64)]"
  },
  "vscode": {
   "interpreter": {
    "hash": "91cb962321660fb9fb4831335e6b4aca41f64ab5bbe92bf63149dfe9ee64c244"
   }
  }
 },
 "nbformat": 4,
 "nbformat_minor": 2
}
